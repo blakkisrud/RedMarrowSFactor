{
 "cells": [
  {
   "cell_type": "code",
   "execution_count": 1,
   "metadata": {},
   "outputs": [
    {
     "name": "stdout",
     "output_type": "stream",
     "text": [
      "I did run!\n",
      "I produced something!\n"
     ]
    }
   ],
   "source": [
    "import numpy as np\n",
    "import matplotlib.pyplot as plt\n",
    "import pandas as pd\n",
    "import scipy.stats as ss\n",
    "import openpyxl\n",
    "\n",
    "from generate_func import SkeletalSFactors"
   ]
  },
  {
   "cell_type": "code",
   "execution_count": null,
   "metadata": {},
   "outputs": [],
   "source": []
  },
  {
   "cell_type": "markdown",
   "metadata": {},
   "source": [
    "# S-factor calculation\n",
    "\n",
    "Energy data from DECDATA, not from Firestone.\n",
    "Separated into IC-electrons, beta-minus-electrons and auger-electrons.\n",
    "Using Hough-UF-model for the male skeleton first, redo and re-check calculations.\n",
    "\n",
    "We do have the specific energy absorbtion fractions for the lumbar vertebraes in a tabular format.\n",
    "\n",
    "27/7/2020\n",
    "\n",
    "Better still, make it general so we can have multiple skeletal sites and nuclides, to better get a grasp of the (full) model.\n",
    "\n",
    "Need to convert some values from the PDF, direct import in excel returns only text-strings. This can be done better\n",
    "\n",
    "Finnished now, have to re-calculate everything but finally we have something usefull. Set up the new analysis and the leave-1-out and all of the other stuff...\n",
    "\n",
    "5/8/2020\n",
    "\n",
    "Continue writing a function of the class, one that takes the CF, mass and Cum and returns the absorbed dose - "
   ]
  },
  {
   "cell_type": "markdown",
   "metadata": {},
   "source": [
    "# Design of S-factors.\n",
    "\n",
    "Need a class or object that can hold the data needed for easy get/set. The class should contain:\n",
    "\n",
    "* Name of isotope\n",
    "* A set of skeletal sites (should we here use a key-ed dictionary?)\n",
    "* Nested in this should be the CFs and the trabular corrections"
   ]
  },
  {
   "cell_type": "code",
   "execution_count": null,
   "metadata": {},
   "outputs": [],
   "source": []
  },
  {
   "cell_type": "code",
   "execution_count": null,
   "metadata": {},
   "outputs": [],
   "source": []
  },
  {
   "cell_type": "code",
   "execution_count": null,
   "metadata": {},
   "outputs": [],
   "source": []
  },
  {
   "cell_type": "code",
   "execution_count": null,
   "metadata": {},
   "outputs": [],
   "source": [
    "# Snippet to test the class-constructing function:\n",
    "\n",
    "saf_input = \"utils/saf_values_male_redone.xlsx\"\n",
    "saf_input = \"utils/saf_values_female_redone.xlsx\"\n",
    "\n",
    "from generate_func import create_skeletal_phantom"
   ]
  },
  {
   "cell_type": "code",
   "execution_count": null,
   "metadata": {},
   "outputs": [],
   "source": [
    "from generate_func import SkeletalSFactors\n",
    "\n",
    "#(energy_frame, cf_dict, tbv_fracs) = create_skeletal_phantom(\n",
    "#    saf_file_path=\"utils/saf_values_male_redone.xlsx\",\n",
    "#    isotope_data_path=\"utils/decdataenergies.xlsx\")\n",
    "\n",
    "MaleFactor = SkeletalSFactors(\n",
    "    isotopename = \"177-Lu\",\n",
    "    phantomsex = \"M\",\n",
    "    saf_file=\"utils/saf_values_male_redone.xlsx\",\n",
    "    isotope_file = \"utils/decdataenergies.xlsx\")\n",
    "\n",
    "#(energy_frame, cf_dict, tbv_fracs) = create_skeletal_phantom(\n",
    "#    saf_file_path=\"utils/saf_values_female_redone.xlsx\",\n",
    "#    isotope_data_path=\"utils/decdataenergies.xlsx\")\n",
    "\n",
    "#FemaleFactor = SkeletalSFactors(\n",
    "#    isotopename = \"177-Lu\",\n",
    "#    phantomsex = \"F\",\n",
    "#    skeletalfactors = energy_frame,\n",
    "#    icrp_cf_vals=cf_dict,\n",
    "#    trabecular_corrections=tbv_fracs)\n",
    "\n",
    "#print(MaleFactor.skeletalfactors[\"LumbarVertebrae\"])\n",
    "#print(FemaleFactor.skeletalfactors[\"LumbarVertebrae\"])"
   ]
  },
  {
   "cell_type": "code",
   "execution_count": null,
   "metadata": {},
   "outputs": [],
   "source": [
    "foobar = (MaleFactor.skeletalfactors)\n",
    "foo = (foobar[\"LumbarVertebrae\"])\n",
    "\n",
    "print(foobar)\n",
    "\n",
    "CF = \"CF10\"\n",
    "cf_val = float((CF[2::]))/100.0\n",
    "tbc_c = ((MaleFactor.trabecular_corrections)[\"LumbarVertebrae\"][0])\n",
    "\n",
    "\n",
    "volume = 0.01*cf_val*(1-tbc_c)\n",
    "cum_act = 120*3600*1e6\n",
    "\n",
    "E = (foo[\"EnergyPerDesintegration\"][CF])\n",
    "print((E*cum_act*1.60217662e-13)/volume)"
   ]
  },
  {
   "cell_type": "code",
   "execution_count": null,
   "metadata": {},
   "outputs": [],
   "source": []
  },
  {
   "cell_type": "code",
   "execution_count": 2,
   "metadata": {},
   "outputs": [],
   "source": [
    "TH_data_path = \"../Betalutin/ErebusArticle/analysis/input/THData.xlsx\"\n",
    "lumbar_data_path = \"../Betalutin/ErebusArticle/analysis/input/lumbardata.xlsx\"\n",
    "\n",
    "MaleFactor = SkeletalSFactors(\n",
    "    isotopename = \"177-Lu\",\n",
    "    phantomsex = \"M\",\n",
    "    saf_file=\"utils/saf_values_male_redone.xlsx\",\n",
    "    isotope_file = \"utils/decdataenergies.xlsx\")\n",
    "  \n",
    "FemaleFactor = SkeletalSFactors(\n",
    "    isotopename = \"177-Lu\",\n",
    "    phantomsex = \"F\",\n",
    "    saf_file=\"utils/saf_values_female_redone.xlsx\",\n",
    "    isotope_file = \"utils/decdataenergies.xlsx\")\n",
    "\n",
    "\n"
   ]
  },
  {
   "cell_type": "code",
   "execution_count": 4,
   "metadata": {},
   "outputs": [
    {
     "name": "stdout",
     "output_type": "stream",
     "text": [
      "                    Site  SiteID     Pnum         Mass          Bqs\n",
      "0                OsCoxae     OCL      P19      159.021  6.66475e+12\n",
      "1    Hip bone right mass     OCR      P19      143.655  7.18814e+12\n",
      "2                L5 mass  lumbar      P19       21.801  2.16912e+12\n",
      "3                L4 mass  lumbar      P19       27.041   2.2495e+12\n",
      "4                L3 mass  lumbar      P19      31.4512  2.21709e+12\n",
      "..                   ...     ...      ...          ...          ...\n",
      "279                  NaN     NaN      NaN          NaN          NaN\n",
      "280                  NaN     NaN      NaN          NaN          NaN\n",
      "281                  NaN     NaN      NaN          NaN          NaN\n",
      "282      LumbarVertebrae     P24  132.515  6.74127e+12            F\n",
      "283      LumbarVertebrae     P25   112.63  1.19061e+13            M\n",
      "\n",
      "[284 rows x 5 columns]\n"
     ]
    }
   ],
   "source": [
    "input_frame = pd.read_excel(TH_data_path)\n",
    "\n",
    "print(input_framerame)"
   ]
  },
  {
   "cell_type": "code",
   "execution_count": null,
   "metadata": {},
   "outputs": [],
   "source": [
    "foo = MaleFactor.skeletalfactors\n",
    "\n",
    "print(MaleFactor.calculate_dose.__doc__)\n",
    "#print((MaleFactor.skeletalfactors)[\"EnergyPerDesintegration\"])"
   ]
  },
  {
   "cell_type": "code",
   "execution_count": 10,
   "metadata": {},
   "outputs": [
    {
     "name": "stdout",
     "output_type": "stream",
     "text": [
      "[1.16142134 1.38662074 1.99182009 2.80979312 1.59273372 1.72719094\n",
      " 2.50839709 2.95605656 1.95275541 2.03309161 2.35477757 3.13072726\n",
      " 4.18795048 1.83172476 1.94772092 2.49318493 2.63778906 3.9905804\n",
      " 3.35465871 2.02728717 2.48338459 3.49991847 3.79795862 1.69316564\n",
      " 1.82089952 2.38895594 3.13170158 1.90341765 1.84584773 1.87368288\n",
      " 2.81311763 3.87507177 0.88633537 1.1266956  3.09442676 2.63462814\n",
      " 2.59960579 3.82289437 3.35453904 3.582423   3.28473899 4.2849943\n",
      " 4.7350556  2.62269149]\n"
     ]
    }
   ],
   "source": [
    "input_frame = pd.read_excel(TH_data_path, sheet_name=\"Input\")\n",
    "\n",
    "\n",
    "\n",
    "pbn = np.zeros(len(input_frame))\n",
    "ad = np.zeros(len(input_frame))\n",
    "\n",
    "for index_of_input in range(len(input_frame)):\n",
    "    \n",
    "    mass_of_marrow = (input_frame[\"Mass\"][index_of_input])\n",
    "    site_name = (input_frame[\"Site\"][index_of_input])\n",
    "    cum_act = (input_frame[\"Bqs\"][index_of_input])\n",
    "    p_sex = (input_frame[\"Sex\"][index_of_input])\n",
    "    p_num = (input_frame[\"Pnum\"][index_of_input])\n",
    "\n",
    "    #print(1e-9*cum_act/mass_of_marrow)\n",
    "\n",
    "    for CF in [\"CF100\", \"ICRP\"]:\n",
    "    \n",
    "        if p_sex == \"M\":\n",
    "\n",
    "            absorbed_dose = (MaleFactor.calculate_dose(mass=mass_of_marrow, \n",
    "                                      cumulative_activity=cum_act,\n",
    "                                      cf_string=CF,\n",
    "                                      site_name= site_name))\n",
    "        else:\n",
    "            absorbed_dose = (FemaleFactor.calculate_dose(mass=mass_of_marrow, \n",
    "                                      cumulative_activity=cum_act,\n",
    "                                      cf_string=CF,\n",
    "                                      site_name= site_name))\n",
    "\n",
    "        ad[index_of_input] = absorbed_dose\n",
    "    \n",
    "\n",
    "\n",
    "print(ad)"
   ]
  },
  {
   "cell_type": "code",
   "execution_count": 20,
   "metadata": {},
   "outputs": [
    {
     "name": "stdout",
     "output_type": "stream",
     "text": [
      "1.023749152157168 OsCoxae CF100\n",
      "1.0367632239827667 OsCoxae CF90\n",
      "1.056856539496867 OsCoxae CF80\n",
      "1.07984325795893 OsCoxae CF70\n",
      "1.1058442831609951 OsCoxae CF60\n",
      "1.1503894465649813 OsCoxae CF50\n",
      "1.2160565748734886 OsCoxae CF40\n",
      "1.3135817723530556 OsCoxae CF30\n",
      "1.5156396372921583 OsCoxae CF20\n",
      "2.1062908738207247 OsCoxae CF10\n",
      "1.1614213366346982 OsCoxae ICRP\n",
      "2.961576499054486 LumbarVertebrae CF100\n",
      "3.0046316826876365 LumbarVertebrae CF90\n",
      "3.0588187434055234 LumbarVertebrae CF80\n",
      "3.130727263717218 LumbarVertebrae CF70\n",
      "3.219621527513439 LumbarVertebrae CF60\n",
      "3.336202394512194 LumbarVertebrae CF50\n",
      "3.5167668180596436 LumbarVertebrae CF40\n",
      "3.8071004817531406 LumbarVertebrae CF30\n",
      "4.388834765497958 LumbarVertebrae CF20\n",
      "6.09536980234831 LumbarVertebrae CF10\n",
      "3.130727263717218 LumbarVertebrae ICRP\n"
     ]
    }
   ],
   "source": [
    "# Populate and make a data frame for containing the multi-site-analysis:\n",
    "\n",
    "\n",
    "patients = np.unique(input_frame[\"Pnum\"])\n",
    "sites = np.unique(input_frame[\"Site\"])\n",
    "cfs = [\n",
    "    \"CF100\",\n",
    "    \"CF90\",\n",
    "    \"CF80\",\n",
    "    \"CF70\",\n",
    "    \"CF60\",\n",
    "    \"CF50\",\n",
    "    \"CF40\",\n",
    "    \"CF30\",\n",
    "    \"CF20\",\n",
    "    \"CF10\",\n",
    "    \"ICRP\",\n",
    "]\n",
    "\n",
    "output_frame = pd.DataFrame(columns=)\n",
    "\n",
    "\n",
    "\n",
    "index_of_input = 0\n",
    "\n",
    "while index_of_input < 12:\n",
    "    \n",
    "    mass_of_marrow = (input_frame[\"Mass\"][index_of_input])\n",
    "    site_name = (input_frame[\"Site\"][index_of_input])\n",
    "    cum_act = (input_frame[\"Bqs\"][index_of_input])\n",
    "    p_sex = (input_frame[\"Sex\"][index_of_input])\n",
    "    p_num = (input_frame[\"Pnum\"][index_of_input])\n",
    "\n",
    "    #print(1e-9*cum_act/mass_of_marrow)\n",
    "\n",
    "    for CF in cfs:\n",
    "    \n",
    "        if p_sex == \"M\":\n",
    "\n",
    "            absorbed_dose = (MaleFactor.calculate_dose(mass=mass_of_marrow, \n",
    "                                      cumulative_activity=cum_act,\n",
    "                                      cf_string=CF,\n",
    "                                      site_name= site_name))\n",
    "        else:\n",
    "            absorbed_dose = (FemaleFactor.calculate_dose(mass=mass_of_marrow, \n",
    "                                      cumulative_activity=cum_act,\n",
    "                                      cf_string=CF,\n",
    "                                      site_name= site_name))\n",
    "        \n",
    "    \n",
    "        "
   ]
  }
 ],
 "metadata": {
  "kernelspec": {
   "display_name": "Python 3",
   "language": "python",
   "name": "python3"
  },
  "language_info": {
   "codemirror_mode": {
    "name": "ipython",
    "version": 3
   },
   "file_extension": ".py",
   "mimetype": "text/x-python",
   "name": "python",
   "nbconvert_exporter": "python",
   "pygments_lexer": "ipython3",
   "version": "3.7.6"
  }
 },
 "nbformat": 4,
 "nbformat_minor": 4
}
