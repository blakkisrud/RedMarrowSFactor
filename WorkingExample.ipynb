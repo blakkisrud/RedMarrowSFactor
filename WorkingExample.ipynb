{
 "cells": [
  {
   "cell_type": "code",
   "execution_count": null,
   "metadata": {},
   "outputs": [],
   "source": [
    "import numpy as np\n",
    "import matplotlib.pyplot as plt\n",
    "import pandas as pd\n",
    "import scipy.stats as ss\n",
    "import openpyxl\n",
    "\n",
    "from generate_func import SkeletalSFactors"
   ]
  },
  {
   "cell_type": "code",
   "execution_count": null,
   "metadata": {},
   "outputs": [],
   "source": [
    "# Files with the phantom values\n",
    "\n",
    "saf_input = \"utils/saf_values_female_redone.xlsx\"\n",
    "nuclide_input = \"utils/decdataenergies.xlsx\"\n",
    "\n",
    "FemaleFactor = SkeletalSFactors(\n",
    "    isotopename = \"177-Lu\",\n",
    "    phantomsex = \"F\",\n",
    "    saf_file=saf_input,\n",
    "    isotope_file = nuclide_input)\n",
    "\n",
    "#FemaleFactor.print_all() # Uncomment to print all info"
   ]
  },
  {
   "cell_type": "code",
   "execution_count": null,
   "metadata": {},
   "outputs": [],
   "source": [
    "# Test \n",
    "\n",
    "CF = \"ICRP\"\n",
    "site_name = \"LumbarVertebrae\"\n",
    "cum_act = 3600*1e6*70\n",
    "mass_of_marrow = 70\n",
    "\n",
    "absorbed_dose = (FemaleFactor.calculate_dose(mass=mass_of_marrow, \n",
    "                                      cumulative_activity=cum_act,\n",
    "                                      cf_string=CF,\n",
    "                                      site_name= site_name))\n",
    "\n",
    "print(absorbed_dose)"
   ]
  }
 ],
 "metadata": {
  "kernelspec": {
   "display_name": "Python 3",
   "language": "python",
   "name": "python3"
  },
  "language_info": {
   "codemirror_mode": {
    "name": "ipython",
    "version": 3
   },
   "file_extension": ".py",
   "mimetype": "text/x-python",
   "name": "python",
   "nbconvert_exporter": "python",
   "pygments_lexer": "ipython3",
   "version": "3.8.3"
  }
 },
 "nbformat": 4,
 "nbformat_minor": 4
}
