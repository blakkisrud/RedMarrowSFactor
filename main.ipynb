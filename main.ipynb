{
 "cells": [
  {
   "cell_type": "code",
   "execution_count": 1,
   "metadata": {},
   "outputs": [],
   "source": [
    "import numpy as np\n",
    "import matplotlib.pyplot as plt\n",
    "import pandas as pd\n",
    "import scipy.stats as ss\n",
    "import openpyxl"
   ]
  },
  {
   "cell_type": "code",
   "execution_count": null,
   "metadata": {},
   "outputs": [],
   "source": []
  },
  {
   "cell_type": "markdown",
   "metadata": {},
   "source": [
    "# S-factor calculation\n",
    "\n",
    "Energy data from DECDATA, not from Firestone.\n",
    "Separated into IC-electrons, beta-minus-electrons and auger-electrons.\n",
    "Using Hough-UF-model for the male skeleton first, redo and re-check calculations.\n",
    "\n",
    "We do have the specific energy absorbtion fractions for the lumbar vertebraes in a tabular format.\n",
    "\n",
    "27/7/2020\n",
    "\n",
    "Better still, make it general so we can have multiple skeletal sites and nuclides, to better get a grasp of the (full) model.\n",
    "\n",
    "Need to convert some values from the PDF, direct import in excel returns only text-strings. This can be done better\n",
    "\n",
    "Finnished now, have to re-calculate everything but finally we have something usefull. Set up the new analysis and the leave-1-out and all of the other stuff..."
   ]
  },
  {
   "cell_type": "markdown",
   "metadata": {},
   "source": [
    "# Design of S-factors.\n",
    "\n",
    "Need a class or object that can hold the data needed for easy get/set. The class should contain:\n",
    "\n",
    "* Name of isotope\n",
    "* A set of skeletal sites (should we here use a key-ed dictionary?)\n",
    "* Nested in this should be the CFs and the trabular corrections"
   ]
  },
  {
   "cell_type": "code",
   "execution_count": null,
   "metadata": {},
   "outputs": [],
   "source": []
  },
  {
   "cell_type": "code",
   "execution_count": 5,
   "metadata": {},
   "outputs": [],
   "source": [
    "class SkeletalSFactors:\n",
    "    \"\"\" Class containing S-factors for skeletal sites using the phantoms \n",
    "        described in \n",
    "        \n",
    "        ref1 and ref2\n",
    "        \n",
    "        Used to store data for different skeletal sites and further potentially\n",
    "        \n",
    "        \"\"\"\n",
    "    \n",
    "    def __init__(self, \n",
    "                 isotopename, \n",
    "                 phantomsex, \n",
    "                 skeletalfactors, \n",
    "                 icrp_cf_vals,\n",
    "                 trabecular_corrections,\n",
    "                 saf_file):\n",
    "        \n",
    "        self.isotopename = isotopename\n",
    "        self.phantomsex = phantomsex\n",
    "        self.skeletalfactors = skeletalfactors\n",
    "        self.icrp_cf_vals = icrp_cf_vals\n",
    "        self.trabecular_corrections = trabecular_corrections\n",
    "        self.saf_file = saf_file\n",
    "        \n",
    "        # Produce the skeletal-factors when initiated, \n",
    "        \n",
    "        self.do_something()\n",
    "        \n",
    "    def print_all(self):\n",
    "        print(\"This is a class containing\")\n",
    "        print(self.isotopename)\n",
    "        print(\"Patient sex: \" + self.phantomsex)\n",
    "        print(\"An the following factors:\")\n",
    "        print(self.skeletalfactors)\n",
    "        print(\"End of print\")\n",
    "        \n",
    "    def do_something(self):\n",
    "        print(\"I got created and did something - I think?\")\n"
   ]
  },
  {
   "cell_type": "code",
   "execution_count": null,
   "metadata": {},
   "outputs": [],
   "source": []
  },
  {
   "cell_type": "code",
   "execution_count": 6,
   "metadata": {},
   "outputs": [],
   "source": [
    "# Snippet to test the class-constructing function:\n",
    "\n",
    "saf_input = \"utils/saf_values_male_redone.xlsx\"\n",
    "saf_input = \"utils/saf_values_female_redone.xlsx\"\n",
    "\n",
    "from generate_func import create_skeletal_phantom"
   ]
  },
  {
   "cell_type": "code",
   "execution_count": 7,
   "metadata": {},
   "outputs": [
    {
     "name": "stdout",
     "output_type": "stream",
     "text": [
      "I got created and did something - I think?\n"
     ]
    }
   ],
   "source": [
    "(energy_frame, cf_dict, tbv_fracs) = create_skeletal_phantom(\n",
    "    saf_file_path=\"utils/saf_values_male_redone.xlsx\",\n",
    "    isotope_data_path=\"utils/decdataenergies.xlsx\")\n",
    "\n",
    "MaleFactor = SkeletalSFactors(\n",
    "    isotopename = \"177-Lu\",\n",
    "    phantomsex = \"M\",\n",
    "    skeletalfactors = energy_frame,\n",
    "    icrp_cf_vals=cf_dict,\n",
    "    trabecular_corrections=tbv_fracs,\n",
    "    saf_file=\"utils/saf_values_male_redone.xlsx\")\n",
    "\n",
    "#(energy_frame, cf_dict, tbv_fracs) = create_skeletal_phantom(\n",
    "#    saf_file_path=\"utils/saf_values_female_redone.xlsx\",\n",
    "#    isotope_data_path=\"utils/decdataenergies.xlsx\")\n",
    "\n",
    "#FemaleFactor = SkeletalSFactors(\n",
    "#    isotopename = \"177-Lu\",\n",
    "#    phantomsex = \"F\",\n",
    "#    skeletalfactors = energy_frame,\n",
    "#    icrp_cf_vals=cf_dict,\n",
    "#    trabecular_corrections=tbv_fracs)\n",
    "\n",
    "#print(MaleFactor.skeletalfactors[\"LumbarVertebrae\"])\n",
    "#print(FemaleFactor.skeletalfactors[\"LumbarVertebrae\"])"
   ]
  }
 ],
 "metadata": {
  "kernelspec": {
   "display_name": "Python 3",
   "language": "python",
   "name": "python3"
  },
  "language_info": {
   "codemirror_mode": {
    "name": "ipython",
    "version": 3
   },
   "file_extension": ".py",
   "mimetype": "text/x-python",
   "name": "python",
   "nbconvert_exporter": "python",
   "pygments_lexer": "ipython3",
   "version": "3.7.6"
  }
 },
 "nbformat": 4,
 "nbformat_minor": 4
}
